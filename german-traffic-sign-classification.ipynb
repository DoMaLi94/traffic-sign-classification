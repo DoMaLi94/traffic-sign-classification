{
 "cells": [
  {
   "cell_type": "code",
   "execution_count": 13,
   "metadata": {},
   "outputs": [],
   "source": [
    "import os\n",
    "import pandas as pd\n",
    "from datetime import datetime\n",
    "\n",
    "import torch\n",
    "import torch.nn as nn\n",
    "import torch.optim as optim\n",
    "import torch.optim.lr_scheduler as lr_scheduler\n",
    "from torch.utils.data import Dataset, DataLoader, random_split\n",
    "from torchvision import transforms, datasets, models\n",
    "from torchvision.io import read_image\n",
    "from torchvision.utils import make_grid\n",
    "from torch.utils.tensorboard import SummaryWriter\n",
    "\n",
    "import matplotlib.pyplot as plt\n",
    "%matplotlib inline\n",
    "\n",
    "\n",
    "DATA_PATH = \"./data/gtsrb-german-traffic-sign/\"\n",
    "\n",
    "TRAIN_FILE = \"./data/gtsrb-german-traffic-sign/Train.csv\"\n",
    "TEST_FILE = \"./data/gtsrb-german-traffic-sign/Test.csv\"\n",
    "\n",
    "TRAIN_DATA_PATH = \"./data/gtsrb-german-traffic-sign/Train/\"\n",
    "TEST_DATA_PATH = \"./data/gtsrb-german-traffic-sign/Test/\"\n",
    "\n",
    "MODEL_CHECKPOINT_PATH = './model_checkpoints/'\n",
    "TENSORBOARD_PATH = './runs/'"
   ]
  },
  {
   "cell_type": "code",
   "execution_count": 14,
   "metadata": {},
   "outputs": [],
   "source": [
    "resize_image = 84\n",
    "final_image_size = 32*2\n",
    "rotate_deg = 15\n",
    "\n",
    "\n",
    "transform_train = transforms.Compose([\n",
    "    transforms.Resize((resize_image, resize_image)),            # Resize the image to 84x84\n",
    "    transforms.RandomRotation(rotate_deg),                      # Randomly rotate the image by up to 15 degrees\n",
    "    # transforms.RandomHorizontalFlip(),                        # Randomly flip the image horizontally\n",
    "    transforms.ColorJitter(brightness=0.2,\n",
    "                           contrast=0.2,\n",
    "                           saturation=0.2),                     # Randomly adjust brightness, contrast and saturation\n",
    "    transforms.RandomAdjustSharpness(sharpness_factor=2),       # Randomly ajust sharpness\n",
    "    transforms.RandomPerspective(distortion_scale=.1, p=0.8),   # Rendomly changes the persective of the image\n",
    "    transforms.RandomCrop((final_image_size, final_image_size)),# Randomly crop the image to 64x64\n",
    "    transforms.ToTensor(),\n",
    "    # transforms.Normalize(mean=[0.5, 0.5, 0.5],\n",
    "    #                      std=[0.5, 0.5, 0.5])\n",
    "])\n",
    "\n",
    "transform_val = transforms.Compose([\n",
    "    transforms.Resize((resize_image, resize_image)),            # Resize the image to 84x84\n",
    "    transforms.ColorJitter(brightness=0.2,\n",
    "                           contrast=0.2,\n",
    "                           saturation=0.2), \n",
    "    transforms.CenterCrop((final_image_size, final_image_size)),# Crop the center 64x64 portion of the image\n",
    "    transforms.ToTensor(),\n",
    "    # transforms.Normalize(mean=[0.5, 0.5, 0.5],\n",
    "    #                      std=[0.5, 0.5, 0.5])\n",
    "])\n",
    "\n",
    "transform_test = transforms.Compose([\n",
    "    transforms.Resize((resize_image, resize_image)),            # Resize the image to 84x84\n",
    "    transforms.ColorJitter(brightness=0.2,\n",
    "                           contrast=0.2,\n",
    "                           saturation=0.2), \n",
    "    transforms.CenterCrop((final_image_size, final_image_size)),# Crop the center 64x64 portion of the image\n",
    "    transforms.ToTensor(),\n",
    "    # transforms.Normalize(mean=[0.5, 0.5, 0.5],\n",
    "    #                      std=[0.5, 0.5, 0.5])\n",
    "])"
   ]
  },
  {
   "cell_type": "code",
   "execution_count": 15,
   "metadata": {},
   "outputs": [],
   "source": [
    "train_dataset = datasets.ImageFolder(root=TRAIN_DATA_PATH, transform=transform_train)\n",
    "\n",
    "train_size = int(0.8 * len(train_dataset))\n",
    "val_size = len(train_dataset) - train_size\n",
    "train_dataset, val_dataset = random_split(train_dataset, [train_size, val_size])\n",
    "\n",
    "train_dataloader = DataLoader(train_dataset, batch_size=64, shuffle=True, num_workers=2)\n",
    "val_dataloader = DataLoader(val_dataset, batch_size=64, shuffle=True, num_workers=2)"
   ]
  },
  {
   "cell_type": "code",
   "execution_count": 16,
   "metadata": {},
   "outputs": [],
   "source": [
    "def ShowImages(dl, rows=6, cols=10):\n",
    "    for images, labels in dl:\n",
    "        fig, ax = plt.subplots(figsize=(12, 12))\n",
    "        ax.set_xticks([]); ax.set_yticks([])\n",
    "        ax.imshow(make_grid(images[:rows*cols], nrow=cols).permute(1, 2, 0).clamp(0,1))\n",
    "        break\n",
    "\n",
    "ShowImages(train_dataloader)"
   ]
  },
  {
   "cell_type": "code",
   "execution_count": null,
   "metadata": {},
   "outputs": [],
   "source": [
    "class RestNet18(nn.Module):\n",
    "    def __init__(self) -> None:\n",
    "        super().__init__()\n",
    "        weights = models.ResNet18_Weights.DEFAULT\n",
    "        self.resnet18 = models.resnet18(weights=weights, progress=False)\n",
    "        n_ftrs = self.resnet18.fc.in_features\n",
    "        self.resnet18.fc = nn.Linear(n_ftrs, 43)\n",
    "\n",
    "    def forward(self, x: torch.Tensor) -> torch.Tensor:\n",
    "        return self.resnet18(x)\n",
    "\n",
    "model = RestNet18()"
   ]
  },
  {
   "cell_type": "code",
   "execution_count": null,
   "metadata": {},
   "outputs": [],
   "source": [
    "def train_model(model, loader, optimizer, criterion, epoch, device, writer):\n",
    "    model.train()\n",
    "    running_loss, correct, total = 0.0, 0, 0\n",
    "\n",
    "    for i, data in enumerate(loader):\n",
    "        inputs, labels = data\n",
    "        inputs, labels = inputs.to(device), labels.to(device)\n",
    "        \n",
    "        optimizer.zero_grad()\n",
    "        outputs = model(inputs)\n",
    "        loss = criterion(outputs, labels)\n",
    "        loss.backward()\n",
    "        optimizer.step()\n",
    "        running_loss += loss.item()\n",
    "\n",
    "        _, predicted = torch.max(outputs.data, 1)\n",
    "        total += labels.size(0)\n",
    "        correct += (predicted == labels).sum().item()\n",
    "\n",
    "        # Write the training loss and accuracy to TensorBoard\n",
    "        iteration = epoch * len(loader) + i\n",
    "        writer.add_scalar('Train/Loss', loss.item(), iteration)\n",
    "        writer.add_scalar('Train/Accuracy', (predicted == labels).sum().item() / labels.size(0), iteration)\n",
    "\n",
    "    loss = running_loss / len(loader)\n",
    "    acc = correct / total\n",
    "    return loss, acc"
   ]
  },
  {
   "cell_type": "code",
   "execution_count": null,
   "metadata": {},
   "outputs": [],
   "source": [
    "def validation_model(model, loader, epoch, device, writer):\n",
    "    model.eval()\n",
    "    running_loss, correct, total = 0.0, 0, 0\n",
    "    with torch.no_grad():\n",
    "        for i, data in enumerate(loader):\n",
    "            inputs, labels = data\n",
    "            inputs, labels = inputs.to(device), labels.to(device)\n",
    "\n",
    "            outputs = model(inputs)\n",
    "            loss = criterion(outputs, labels)\n",
    "            running_loss += loss.item()\n",
    "\n",
    "            _, predicted = torch.max(outputs.data, 1)\n",
    "            total += labels.size(0)\n",
    "            correct += (predicted == labels).sum().item()\n",
    "\n",
    "            # Write the validation loss and accuracy to TensorBoard\n",
    "            iteration = epoch * len(loader) + i\n",
    "            writer.add_scalar('Val/Loss', loss.item(), iteration)\n",
    "            writer.add_scalar('Val/Accuracy', (predicted == labels).sum().item() / labels.size(0), iteration)\n",
    "\n",
    "    loss = running_loss / len(loader)\n",
    "    acc = correct / total\n",
    "    return loss, acc"
   ]
  },
  {
   "cell_type": "code",
   "execution_count": null,
   "metadata": {},
   "outputs": [
    {
     "name": "stdout",
     "output_type": "stream",
     "text": [
      "TensorBoard: ./runs/2023-03-01_17:36:10-tensorboard\n",
      "Using device:  cpu\n",
      "Epoch [1/10] | Train Loss: 1.2061 | Val Loss: 0.3564 | Train Acc: 0.6463 | Val Acc: 0.8828\n",
      "Epoch [2/10] | Train Loss: 0.2937 | Val Loss: 0.1397 | Train Acc: 0.9089 | Val Acc: 0.9559\n",
      "Epoch [3/10] | Train Loss: 0.1622 | Val Loss: 0.0966 | Train Acc: 0.9502 | Val Acc: 0.9691\n",
      "Epoch [4/10] | Train Loss: 0.1212 | Val Loss: 0.0701 | Train Acc: 0.9622 | Val Acc: 0.9800\n",
      "Epoch [5/10] | Train Loss: 0.0950 | Val Loss: 0.0536 | Train Acc: 0.9702 | Val Acc: 0.9841\n",
      "Epoch [6/10] | Train Loss: 0.0786 | Val Loss: 0.0726 | Train Acc: 0.9760 | Val Acc: 0.9755\n",
      "Epoch [7/10] | Train Loss: 0.0785 | Val Loss: 0.0507 | Train Acc: 0.9764 | Val Acc: 0.9834\n",
      "Epoch [8/10] | Train Loss: 0.0646 | Val Loss: 0.0441 | Train Acc: 0.9806 | Val Acc: 0.9860\n",
      "Epoch [9/10] | Train Loss: 0.0625 | Val Loss: 0.0317 | Train Acc: 0.9810 | Val Acc: 0.9892\n",
      "Epoch [10/10] | Train Loss: 0.0553 | Val Loss: 0.0351 | Train Acc: 0.9835 | Val Acc: 0.9892\n"
     ]
    }
   ],
   "source": [
    "# Unique identifier for the run\n",
    "run = str(datetime.now().strftime(\"%Y-%m-%d_%H:%M:%S\"))                 \n",
    "\n",
    "# Save path for tensorboard\n",
    "writer_path = os.path.join(TENSORBOARD_PATH, f'{run}-tensorboard')\n",
    "print('TensorBoard:', writer_path)\n",
    "\n",
    "# Filename to save the model to\n",
    "model_chckpoint_file = os.path.join(MODEL_CHECKPOINT_PATH, f'{run}-model.pt')\n",
    "\n",
    "# Init the tensorboard writer\n",
    "writer = SummaryWriter(writer_path)\n",
    "\n",
    "n_epochs = 10\n",
    "\n",
    "# Select device\n",
    "device = torch.device(\"cuda:0\" if torch.cuda.is_available() else \"cpu\")\n",
    "print(\"Using device: \", device)\n",
    "\n",
    "# Define the criterion used while training\n",
    "criterion = nn.CrossEntropyLoss()\n",
    "\n",
    "# Define the optimizer\n",
    "# Common range for weight decay 1e-4 and 1e-2\n",
    "optimizer = optim.Adam(model.parameters(), lr=1e-4, weight_decay=1e-3)\n",
    "\n",
    "# Define the learning rate scheduler\n",
    "# scheduler = lr_scheduler.StepLR(optimizer, step_size=20, gamma=0.1)\n",
    "# scheduler = lr_scheduler.ReduceLROnPlateau(optimizer, mode='min', factor=0.1, patience=5, verbose=True)\n",
    "\n",
    "model.to(device)    # Load the model to the device\n",
    "for epoch in range(n_epochs):\n",
    "\n",
    "    train_loss, train_acc = train_model(model, train_dataloader, optimizer,\n",
    "                                        criterion, epoch, device, writer)\n",
    "    val_loss, val_acc = validation_model(model, val_dataloader, epoch, device, writer)\n",
    "    # scheduler.step()  # Reduce learning rate every epoch\n",
    "\n",
    "    # Plot the epoch results\n",
    "    print(f'Epoch [{epoch+1}/{n_epochs}] | '\n",
    "          f'Train Loss: {train_loss:.4f} | '\n",
    "          f'Val Loss: {val_loss:.4f} | '\n",
    "          f'Train Acc: {train_acc:.4f} | '\n",
    "          f'Val Acc: {val_acc:.4f}')\n",
    "\n",
    "writer.flush()"
   ]
  },
  {
   "cell_type": "code",
   "execution_count": null,
   "metadata": {},
   "outputs": [
    {
     "name": "stdout",
     "output_type": "stream",
     "text": [
      "Model saved at: ./model_checkpoints/2023-03-01_17:36:10-model.pt\n"
     ]
    }
   ],
   "source": [
    "torch.save({\n",
    "    'model_state_dict': model.state_dict(),\n",
    "    'optimizer_state_dict': optimizer.state_dict(),\n",
    "    }, os.path.join(model_chckpoint_file))\n",
    "\n",
    "print('Model saved at:', model_chckpoint_file)"
   ]
  },
  {
   "cell_type": "code",
   "execution_count": null,
   "metadata": {},
   "outputs": [],
   "source": [
    "def evaluation_model(model, loader, criterion, device):\n",
    "    model.eval()\n",
    "    running_loss, correct, total = 0.0, 0, 0\n",
    "    with torch.no_grad():\n",
    "        for data in loader:\n",
    "            inputs, labels = data\n",
    "            inputs, labels = inputs.to(device), labels.to(device)\n",
    "\n",
    "            outputs = model(inputs)\n",
    "            loss = criterion(outputs, labels)\n",
    "            running_loss += loss.item()\n",
    "\n",
    "            _, predicted = torch.max(outputs.data, 1)\n",
    "            total += labels.size(0)\n",
    "            correct += (predicted == labels).sum().item()\n",
    "\n",
    "    loss = running_loss / len(loader)\n",
    "    acc = correct / total\n",
    "\n",
    "    print(f'Test Loss: {loss:.4f} | Test Acc: {acc:.4f}')"
   ]
  },
  {
   "cell_type": "code",
   "execution_count": null,
   "metadata": {},
   "outputs": [
    {
     "name": "stdout",
     "output_type": "stream",
     "text": [
      "Test Loss: 0.1567 | Test Acc: 0.9572\n"
     ]
    }
   ],
   "source": [
    "\n",
    "# Load test dataset\n",
    "test_dataset = datasets.ImageFolder(root=TEST_DATA_PATH, transform=transform_test)\n",
    "test_dataloader = DataLoader(test_dataset, batch_size=256, shuffle=True, num_workers=2)\n",
    "\n",
    "# Loading a saved model\n",
    "checkpoint = torch.load(model_chckpoint_file)\n",
    "model.load_state_dict(checkpoint['model_state_dict'])\n",
    "optimizer.load_state_dict(checkpoint['optimizer_state_dict'])\n",
    "\n",
    "# Evaluate the model\n",
    "evaluation_model(model, test_dataloader, criterion, device)"
   ]
  }
 ],
 "metadata": {
  "kernelspec": {
   "display_name": "Python 3 (ipykernel)",
   "language": "python",
   "name": "python3"
  },
  "language_info": {
   "codemirror_mode": {
    "name": "ipython",
    "version": 3
   },
   "file_extension": ".py",
   "mimetype": "text/x-python",
   "name": "python",
   "nbconvert_exporter": "python",
   "pygments_lexer": "ipython3",
   "version": "3.10.4"
  },
  "orig_nbformat": 4,
  "vscode": {
   "interpreter": {
    "hash": "3ad933181bd8a04b432d3370b9dc3b0662ad032c4dfaa4e4f1596c548f763858"
   }
  }
 },
 "nbformat": 4,
 "nbformat_minor": 2
}
